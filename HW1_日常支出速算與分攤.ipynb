{
  "nbformat": 4,
  "nbformat_minor": 0,
  "metadata": {
    "colab": {
      "provenance": [],
      "authorship_tag": "ABX9TyNhfLQzLnoj/xMX1jeOm3zt",
      "include_colab_link": true
    },
    "kernelspec": {
      "name": "python3",
      "display_name": "Python 3"
    },
    "language_info": {
      "name": "python"
    }
  },
  "cells": [
    {
      "cell_type": "markdown",
      "metadata": {
        "id": "view-in-github",
        "colab_type": "text"
      },
      "source": [
        "<a href=\"https://colab.research.google.com/github/41371112h/114-1/blob/main/HW1_%E6%97%A5%E5%B8%B8%E6%94%AF%E5%87%BA%E9%80%9F%E7%AE%97%E8%88%87%E5%88%86%E6%94%A4.ipynb\" target=\"_parent\"><img src=\"https://colab.research.google.com/assets/colab-badge.svg\" alt=\"Open In Colab\"/></a>"
      ]
    },
    {
      "cell_type": "code",
      "source": [
        "import gspread\n",
        "from gspread_dataframe import get_as_dataframe\n",
        "from google.colab import auth\n",
        "from google.auth import default\n",
        "import pandas as pd\n",
        "import re\n",
        "\n",
        "# ====== 1. 授權 ======\n",
        "auth.authenticate_user()\n",
        "creds, _ = default()\n",
        "gc = gspread.authorize(creds)\n",
        "print(\"已完成 Google 帳號授權\")\n",
        "\n",
        "# ====== 2. 開啟試算表 ======\n",
        "sheet_url = \"https://docs.google.com/spreadsheets/d/1HvCj-v296pFicLIjB5BbsX5U26Pd4d76QM5iuF1NeSo/edit?gid=0#gid=0\"\n",
        "sheet_id = re.search(r'/d/([a-zA-Z0-9-_]+)', sheet_url).group(1)\n",
        "\n",
        "spreadsheet = gc.open_by_key(sheet_id)\n",
        "\n",
        "worksheet = spreadsheet.worksheet(\"工作表1\")\n",
        "print(\"已打開工作表: Sheet1\")\n",
        "\n",
        "# ====== 3. 讀取現有資料到 DataFrame ======\n",
        "df = get_as_dataframe(worksheet, evaluate_formulas=True, dtype=str)\n",
        "df = df.dropna(how=\"all\")\n",
        "if df.empty:\n",
        "    df = pd.DataFrame(columns=[\"日期\", \"時間\", \"品項\", \"金額\"])\n",
        "\n",
        "# ====== 4. 文字輸入並即時寫入 ======\n",
        "records = []\n",
        "while True:\n",
        "    date = input(\"請輸入日期 (YYYY-MM-DD): \")\n",
        "    time = input(\"請輸入時間 (HH:MM): \")\n",
        "    item = input(\"請輸入品項: \")\n",
        "    amount = input(\"請輸入金額: \")\n",
        "\n",
        "    record = {\"日期\": date, \"時間\": time, \"品項\": item, \"金額\": float(amount)}\n",
        "    records.append(record)\n",
        "    df = pd.concat([df, pd.DataFrame([record])], ignore_index=True)\n",
        "\n",
        "    worksheet.append_row([date, time, item, float(amount)])\n",
        "    print(\"已新增一筆紀錄到 DataFrame 和 Google Sheet！\\n\")\n",
        "\n",
        "# ====== 5. 列出所有紀錄 ======\n",
        "print(\"\\n--- 所有紀錄 ---\")\n",
        "for r in records:\n",
        "    print(f\"{r['日期']} {r['時間']} {r['品項']} ${r['金額']}\")"
      ],
      "metadata": {
        "id": "F1z27WDAzXxD"
      },
      "execution_count": null,
      "outputs": []
    }
  ]
}