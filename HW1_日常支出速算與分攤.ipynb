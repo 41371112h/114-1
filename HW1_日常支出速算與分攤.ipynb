{
  "cells": [
    {
      "cell_type": "markdown",
      "metadata": {
        "id": "view-in-github",
        "colab_type": "text"
      },
      "source": [
        "<a href=\"https://colab.research.google.com/github/41371112h/114-1/blob/main/HW1_%E6%97%A5%E5%B8%B8%E6%94%AF%E5%87%BA%E9%80%9F%E7%AE%97%E8%88%87%E5%88%86%E6%94%A4.ipynb\" target=\"_parent\"><img src=\"https://colab.research.google.com/assets/colab-badge.svg\" alt=\"Open In Colab\"/></a>"
      ]
    },
    {
      "cell_type": "code",
      "source": [
        "import gspread\n",
        "from gspread_dataframe import get_as_dataframe, set_with_dataframe\n",
        "from google.colab import auth\n",
        "from google.auth import default\n",
        "import pandas as pd\n",
        "import re\n",
        "\n",
        "# ====== 1. 授權 ======\n",
        "auth.authenticate_user()\n",
        "creds, _ = default()\n",
        "gc = gspread.authorize(creds)\n",
        "print(\"已完成 Google 帳號授權\")\n",
        "\n",
        "# ====== 2. 開啟試算表 ======\n",
        "sheet_url = \"https://docs.google.com/spreadsheets/d/1HvCj-v296pFicLIjB5BbsX5U26Pd4d76QM5iuF1NeSo/edit?gid=0#gid=0\"\n",
        "sheet_id = re.search(r'/d/([a-zA-Z0-9-_]+)', sheet_url).group(1)\n",
        "\n",
        "spreadsheet = gc.open_by_key(sheet_id)\n",
        "\n",
        "# 主表：消費紀錄\n",
        "try:\n",
        "    worksheet = spreadsheet.worksheet(\"消費紀錄\")\n",
        "except gspread.exceptions.WorksheetNotFound:\n",
        "    worksheet = spreadsheet.add_worksheet(title=\"消費紀錄\", rows=1000, cols=5)\n",
        "    worksheet.append_row([\"日期\", \"時間\", \"品項\", \"分類\", \"金額\"])\n",
        "\n",
        "# Summary 表\n",
        "try:\n",
        "    summary_ws = spreadsheet.worksheet(\"Summary\")\n",
        "except gspread.exceptions.WorksheetNotFound:\n",
        "    summary_ws = spreadsheet.add_worksheet(title=\"Summary\", rows=1000, cols=5)\n",
        "\n",
        "print(\"已打開工作表: 消費紀錄 + Summary\")\n",
        "\n",
        "# ====== 3. 讀取現有資料到 DataFrame ======\n",
        "df = get_as_dataframe(worksheet, evaluate_formulas=True, dtype=str)\n",
        "df = df.dropna(how=\"all\")\n",
        "if df.empty:\n",
        "    df = pd.DataFrame(columns=[\"日期\", \"時間\", \"品項\", \"分類\", \"金額\"])\n",
        "\n",
        "# ====== 4. 文字輸入並即時寫入 ======\n",
        "records = []\n",
        "while True:\n",
        "    date = input(\"請輸入日期 (YYYY-MM-DD): \")\n",
        "    time = input(\"請輸入時間 (HH:MM): \")\n",
        "    item = input(\"請輸入品項: \")\n",
        "    category = input(\"請輸入分類 (例如: 餐飲/交通/娛樂): \")\n",
        "    amount = input(\"請輸入金額: \")\n",
        "\n",
        "    record = {\"日期\": date, \"時間\": time, \"品項\": item, \"分類\": category, \"金額\": float(amount)}\n",
        "    records.append(record)\n",
        "    df = pd.concat([df, pd.DataFrame([record])], ignore_index=True)\n",
        "\n",
        "    worksheet.append_row([date, time, item, category, float(amount)])\n",
        "    print(\"已新增一筆紀錄到 消費紀錄！\")\n",
        "\n",
        "# ====== 5. 更新 Summary ======\n",
        "    summary = df.groupby(\"分類\")[\"金額\"].sum().reset_index()\n",
        "    summary.loc[len(summary)] = [\"總額\", df[\"金額\"].astype(float).sum()]  # 加總額\n",
        "\n",
        "    summary_ws.clear()\n",
        "    set_with_dataframe(summary_ws, summary)\n",
        "    print(\"Summary 已更新！\\n\")\n",
        "\n",
        "# ====== 6. 結束後顯示 ======\n",
        "print(\"\\n--- 所有紀錄 ---\")\n",
        "print(df)\n",
        "\n",
        "print(\"\\n--- 分類小計 + 總額 ---\")\n",
        "print(summary)"
      ],
      "metadata": {
        "id": "jLmUU3q5Xnvo"
      },
      "execution_count": null,
      "outputs": []
    }
  ],
  "metadata": {
    "colab": {
      "provenance": [],
      "authorship_tag": "ABX9TyM6UquSRxo5w/HGSKsltr90",
      "include_colab_link": true
    },
    "kernelspec": {
      "display_name": "Python 3",
      "name": "python3"
    },
    "language_info": {
      "name": "python"
    }
  },
  "nbformat": 4,
  "nbformat_minor": 0
}